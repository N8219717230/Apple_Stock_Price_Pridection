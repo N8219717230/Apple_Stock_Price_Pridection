{
 "cells": [
  {
   "cell_type": "code",
   "execution_count": 112,
   "id": "fd0195f7",
   "metadata": {},
   "outputs": [],
   "source": [
    "# key = \"fa1a5510632e6640e98f30a6ba158900cf0fa985\"\n",
    "# import pandas_datareader as pdr\n",
    "# df=pdr.get_data_tiingo(\"AAPL\",api_key = key)\n",
    "# df.to_csv(\"AAPL.csv\")\n"
   ]
  },
  {
   "cell_type": "code",
   "execution_count": 115,
   "id": "164d81fd",
   "metadata": {},
   "outputs": [],
   "source": [
    "import os\n",
    "import pandas_datareader as pdr\n"
   ]
  },
  {
   "cell_type": "code",
   "execution_count": 1,
   "id": "2e498677",
   "metadata": {},
   "outputs": [],
   "source": [
    "import tensorflow as tf"
   ]
  },
  {
   "cell_type": "code",
   "execution_count": 2,
   "id": "e9ace526",
   "metadata": {},
   "outputs": [],
   "source": [
    "import pandas as pd"
   ]
  },
  {
   "cell_type": "code",
   "execution_count": 4,
   "id": "bfd0dcd1",
   "metadata": {},
   "outputs": [],
   "source": [
    "df= pd.read_csv(\"AAPL.csv\")"
   ]
  },
  {
   "cell_type": "code",
   "execution_count": 5,
   "id": "583471e8",
   "metadata": {},
   "outputs": [
    {
     "data": {
      "text/html": [
       "<div>\n",
       "<style scoped>\n",
       "    .dataframe tbody tr th:only-of-type {\n",
       "        vertical-align: middle;\n",
       "    }\n",
       "\n",
       "    .dataframe tbody tr th {\n",
       "        vertical-align: top;\n",
       "    }\n",
       "\n",
       "    .dataframe thead th {\n",
       "        text-align: right;\n",
       "    }\n",
       "</style>\n",
       "<table border=\"1\" class=\"dataframe\">\n",
       "  <thead>\n",
       "    <tr style=\"text-align: right;\">\n",
       "      <th></th>\n",
       "      <th>symbol</th>\n",
       "      <th>date</th>\n",
       "      <th>close</th>\n",
       "      <th>high</th>\n",
       "      <th>low</th>\n",
       "      <th>open</th>\n",
       "      <th>volume</th>\n",
       "      <th>adjClose</th>\n",
       "      <th>adjHigh</th>\n",
       "      <th>adjLow</th>\n",
       "      <th>adjOpen</th>\n",
       "      <th>adjVolume</th>\n",
       "      <th>divCash</th>\n",
       "      <th>splitFactor</th>\n",
       "    </tr>\n",
       "  </thead>\n",
       "  <tbody>\n",
       "    <tr>\n",
       "      <th>1253</th>\n",
       "      <td>AAPL</td>\n",
       "      <td>2023-03-23 00:00:00+00:00</td>\n",
       "      <td>158.93</td>\n",
       "      <td>161.5501</td>\n",
       "      <td>157.68</td>\n",
       "      <td>158.83</td>\n",
       "      <td>67622060</td>\n",
       "      <td>158.93</td>\n",
       "      <td>161.5501</td>\n",
       "      <td>157.68</td>\n",
       "      <td>158.83</td>\n",
       "      <td>67622060</td>\n",
       "      <td>0.0</td>\n",
       "      <td>1.0</td>\n",
       "    </tr>\n",
       "    <tr>\n",
       "      <th>1254</th>\n",
       "      <td>AAPL</td>\n",
       "      <td>2023-03-24 00:00:00+00:00</td>\n",
       "      <td>160.25</td>\n",
       "      <td>160.3400</td>\n",
       "      <td>157.85</td>\n",
       "      <td>158.86</td>\n",
       "      <td>59256343</td>\n",
       "      <td>160.25</td>\n",
       "      <td>160.3400</td>\n",
       "      <td>157.85</td>\n",
       "      <td>158.86</td>\n",
       "      <td>59256343</td>\n",
       "      <td>0.0</td>\n",
       "      <td>1.0</td>\n",
       "    </tr>\n",
       "    <tr>\n",
       "      <th>1255</th>\n",
       "      <td>AAPL</td>\n",
       "      <td>2023-03-27 00:00:00+00:00</td>\n",
       "      <td>158.28</td>\n",
       "      <td>160.7700</td>\n",
       "      <td>157.87</td>\n",
       "      <td>159.94</td>\n",
       "      <td>52390266</td>\n",
       "      <td>158.28</td>\n",
       "      <td>160.7700</td>\n",
       "      <td>157.87</td>\n",
       "      <td>159.94</td>\n",
       "      <td>52390266</td>\n",
       "      <td>0.0</td>\n",
       "      <td>1.0</td>\n",
       "    </tr>\n",
       "    <tr>\n",
       "      <th>1256</th>\n",
       "      <td>AAPL</td>\n",
       "      <td>2023-03-28 00:00:00+00:00</td>\n",
       "      <td>157.65</td>\n",
       "      <td>158.4900</td>\n",
       "      <td>155.98</td>\n",
       "      <td>157.97</td>\n",
       "      <td>45992152</td>\n",
       "      <td>157.65</td>\n",
       "      <td>158.4900</td>\n",
       "      <td>155.98</td>\n",
       "      <td>157.97</td>\n",
       "      <td>45992152</td>\n",
       "      <td>0.0</td>\n",
       "      <td>1.0</td>\n",
       "    </tr>\n",
       "    <tr>\n",
       "      <th>1257</th>\n",
       "      <td>AAPL</td>\n",
       "      <td>2023-03-29 00:00:00+00:00</td>\n",
       "      <td>160.77</td>\n",
       "      <td>161.0500</td>\n",
       "      <td>159.35</td>\n",
       "      <td>159.37</td>\n",
       "      <td>51305691</td>\n",
       "      <td>160.77</td>\n",
       "      <td>161.0500</td>\n",
       "      <td>159.35</td>\n",
       "      <td>159.37</td>\n",
       "      <td>51305691</td>\n",
       "      <td>0.0</td>\n",
       "      <td>1.0</td>\n",
       "    </tr>\n",
       "  </tbody>\n",
       "</table>\n",
       "</div>"
      ],
      "text/plain": [
       "     symbol                       date   close      high     low    open  \\\n",
       "1253   AAPL  2023-03-23 00:00:00+00:00  158.93  161.5501  157.68  158.83   \n",
       "1254   AAPL  2023-03-24 00:00:00+00:00  160.25  160.3400  157.85  158.86   \n",
       "1255   AAPL  2023-03-27 00:00:00+00:00  158.28  160.7700  157.87  159.94   \n",
       "1256   AAPL  2023-03-28 00:00:00+00:00  157.65  158.4900  155.98  157.97   \n",
       "1257   AAPL  2023-03-29 00:00:00+00:00  160.77  161.0500  159.35  159.37   \n",
       "\n",
       "        volume  adjClose   adjHigh  adjLow  adjOpen  adjVolume  divCash  \\\n",
       "1253  67622060    158.93  161.5501  157.68   158.83   67622060      0.0   \n",
       "1254  59256343    160.25  160.3400  157.85   158.86   59256343      0.0   \n",
       "1255  52390266    158.28  160.7700  157.87   159.94   52390266      0.0   \n",
       "1256  45992152    157.65  158.4900  155.98   157.97   45992152      0.0   \n",
       "1257  51305691    160.77  161.0500  159.35   159.37   51305691      0.0   \n",
       "\n",
       "      splitFactor  \n",
       "1253          1.0  \n",
       "1254          1.0  \n",
       "1255          1.0  \n",
       "1256          1.0  \n",
       "1257          1.0  "
      ]
     },
     "execution_count": 5,
     "metadata": {},
     "output_type": "execute_result"
    }
   ],
   "source": [
    "df.tail()"
   ]
  },
  {
   "cell_type": "code",
   "execution_count": 6,
   "id": "799b7dcd",
   "metadata": {},
   "outputs": [],
   "source": [
    "df1 = df.reset_index()[\"close\"]"
   ]
  },
  {
   "cell_type": "code",
   "execution_count": 7,
   "id": "ba71d9e9",
   "metadata": {},
   "outputs": [
    {
     "data": {
      "text/plain": [
       "0       166.68\n",
       "1       168.39\n",
       "2       171.61\n",
       "3       172.80\n",
       "4       168.38\n",
       "         ...  \n",
       "1253    158.93\n",
       "1254    160.25\n",
       "1255    158.28\n",
       "1256    157.65\n",
       "1257    160.77\n",
       "Name: close, Length: 1258, dtype: float64"
      ]
     },
     "execution_count": 7,
     "metadata": {},
     "output_type": "execute_result"
    }
   ],
   "source": [
    "df1"
   ]
  },
  {
   "cell_type": "code",
   "execution_count": 8,
   "id": "5987361c",
   "metadata": {},
   "outputs": [],
   "source": [
    "import matplotlib.pyplot as plt"
   ]
  },
  {
   "cell_type": "code",
   "execution_count": 9,
   "id": "a1520a5c",
   "metadata": {},
   "outputs": [
    {
     "data": {
      "text/plain": [
       "[<matplotlib.lines.Line2D at 0x244906e0730>]"
      ]
     },
     "execution_count": 9,
     "metadata": {},
     "output_type": "execute_result"
    },
    {
     "data": {
      "image/png": "[encoded data removed]",
      "text/plain": [
       "<Figure size 640x480 with 1 Axes>"
      ]
     },
     "metadata": {},
     "output_type": "display_data"
    }
   ],
   "source": [
    "plt.plot(df1)"
   ]
  },
  {
   "cell_type": "code",
   "execution_count": 10,
   "id": "35510b29",
   "metadata": {},
   "outputs": [],
   "source": [
    "#LSTM ARE VERY SENSITY TO THE SCALE OF DATA \n",
    "\n",
    "import numpy as np\n",
    "from sklearn.preprocessing import MinMaxScaler\n",
    "scaler =MinMaxScaler(feature_range = (0,1))# between 0 and 1\n",
    "df1 = scaler.fit_transform(np.array(df1).reshape(-1,1))"
   ]
  },
  {
   "cell_type": "code",
   "execution_count": 11,
   "id": "3946f805",
   "metadata": {},
   "outputs": [
    {
     "data": {
      "text/plain": [
       "(1258, 1)"
      ]
     },
     "execution_count": 11,
     "metadata": {},
     "output_type": "execute_result"
    }
   ],
   "source": [
    "df1.shape\n"
   ]
  },
  {
   "cell_type": "raw",
   "id": "3bee286c",
   "metadata": {},
   "source": [
    "Train test split\n"
   ]
  },
  {
   "cell_type": "code",
   "execution_count": 12,
   "id": "1a445d79",
   "metadata": {},
   "outputs": [],
   "source": [
    "training_size = int(len(df1)*0.65)\n",
    "test_size = len(df1)-training_size\n",
    "train_data,test_data = df1[0:training_size,:],df1[training_size:len(df1),:1]"
   ]
  },
  {
   "cell_type": "code",
   "execution_count": 13,
   "id": "30f7428d",
   "metadata": {},
   "outputs": [
    {
     "data": {
      "text/plain": [
       "817"
      ]
     },
     "execution_count": 13,
     "metadata": {},
     "output_type": "execute_result"
    }
   ],
   "source": [
    "len(train_data)"
   ]
  },
  {
   "cell_type": "markdown",
   "id": "47f6459c",
   "metadata": {},
   "source": [
    "#timesteps = 3\n",
    "means need back 3 days data neeeded for prediction of 4th day\n",
    "\n",
    "eg  X_train        y_train\n",
    "   f1   f2   f3    o/p \n",
    "   120  130  125    140"
   ]
  },
  {
   "cell_type": "code",
   "execution_count": 14,
   "id": "01a25c22",
   "metadata": {},
   "outputs": [],
   "source": [
    "#timesteps = 3\n",
    "#means need back 3 days data neeeded for prediction of 4th day\n",
    "\n",
    "#eg  X_train        y_train\n",
    " #  f1   f2   f3    o/p \n",
    "#   120  130  125    140\n",
    "\n",
    "#o same with test data set\n"
   ]
  },
  {
   "cell_type": "code",
   "execution_count": 33,
   "id": "314b2503",
   "metadata": {},
   "outputs": [],
   "source": [
    "import numpy as np\n",
    "\n",
    "def create_dataset(dataset,time_step = 1):\n",
    "    dataX, dataY = [], []\n",
    "    for i in range(len(dataset)-time_step-1):\n",
    "        a = dataset[i:(i+time_step), 0]\n",
    "        dataX.append(a)\n",
    "        dataY.append(dataset[i+time_step, 0])\n",
    "    return np.array(dataX), np.array(dataY)\n",
    "\n",
    "#reshape into t,t+1,t+2..... y=t+4\n",
    "time_step = 100 \n",
    "X_train, y_train = create_dataset(train_data, time_step)\n",
    "X_test, y_test = create_dataset(test_data, time_step)\n"
   ]
  },
  {
   "cell_type": "code",
   "execution_count": 16,
   "id": "0fb5f273",
   "metadata": {},
   "outputs": [
    {
     "data": {
      "text/plain": [
       "(716, 100)"
      ]
     },
     "execution_count": 16,
     "metadata": {},
     "output_type": "execute_result"
    }
   ],
   "source": [
    "X_train.shape"
   ]
  },
  {
   "cell_type": "code",
   "execution_count": 17,
   "id": "73b83a7d",
   "metadata": {},
   "outputs": [
    {
     "data": {
      "text/plain": [
       "(716,)"
      ]
     },
     "execution_count": 17,
     "metadata": {},
     "output_type": "execute_result"
    }
   ],
   "source": [
    "y_train.shape"
   ]
  },
  {
   "cell_type": "code",
   "execution_count": 19,
   "id": "84abc995",
   "metadata": {},
   "outputs": [],
   "source": [
    "# need to reshape in 3d for lstm\n",
    "X_train =X_train.reshape(X_train.shape[0],X_train.shape[1],1)\n",
    "X_test =X_test.reshape(X_test.shape[0],X_test.shape[1],1)"
   ]
  },
  {
   "cell_type": "code",
   "execution_count": 20,
   "id": "59ba975e",
   "metadata": {},
   "outputs": [],
   "source": [
    "\n",
    "from tensorflow.keras.models import Sequential\n",
    "from tensorflow.keras.layers import Dense\n",
    "from tensorflow .keras.layers import LSTM\n"
   ]
  },
  {
   "cell_type": "code",
   "execution_count": 21,
   "id": "967335e9",
   "metadata": {},
   "outputs": [],
   "source": [
    "model = Sequential()\n",
    "model.add(LSTM(50,return_sequences = True,input_shape=(100,1)))\n",
    "model.add(LSTM(50,return_sequences = True))\n",
    "model.add(LSTM(50))\n",
    "model.add(Dense(1))\n",
    "model.compile(loss=\"mean_squared_error\",optimizer =\"adam\")"
   ]
  },
  {
   "cell_type": "code",
   "execution_count": 22,
   "id": "0996a0ad",
   "metadata": {},
   "outputs": [
    {
     "name": "stdout",
     "output_type": "stream",
     "text": [
      "Model: \"sequential\"\n",
      "_________________________________________________________________\n",
      " Layer (type)                Output Shape              Param #   \n",
      "=================================================================\n",
      " lstm (LSTM)                 (None, 100, 50)           10400     \n",
      "                                                                 \n",
      " lstm_1 (LSTM)               (None, 100, 50)           20200     \n",
      "                                                                 \n",
      " lstm_2 (LSTM)               (None, 50)                20200     \n",
      "                                                                 \n",
      " dense (Dense)               (None, 1)                 51        \n",
      "                                                                 \n",
      "=================================================================\n",
      "Total params: 50,851\n",
      "Trainable params: 50,851\n",
      "Non-trainable params: 0\n",
      "_________________________________________________________________\n"
     ]
    }
   ],
   "source": [
    "model.summary()"
   ]
  },
  {
   "cell_type": "code",
   "execution_count": 23,
   "id": "8003d44e",
   "metadata": {},
   "outputs": [
    {
     "name": "stdout",
     "output_type": "stream",
     "text": [
      "Epoch 1/100\n",
      "12/12 [==============================] - 7s 197ms/step - loss: 0.0445 - val_loss: 9.4436e-04\n",
      "Epoch 2/100\n",
      "12/12 [==============================] - 1s 123ms/step - loss: 0.0174 - val_loss: 0.0033\n",
      "Epoch 3/100\n",
      "12/12 [==============================] - 1s 118ms/step - loss: 0.0121 - val_loss: 0.0011\n",
      "Epoch 4/100\n",
      "12/12 [==============================] - 1s 117ms/step - loss: 0.0105 - val_loss: 0.0015\n",
      "Epoch 5/100\n",
      "12/12 [==============================] - 1s 121ms/step - loss: 0.0115 - val_loss: 0.0021\n",
      "Epoch 6/100\n",
      "12/12 [==============================] - 1s 118ms/step - loss: 0.0088 - val_loss: 4.2676e-04\n",
      "Epoch 7/100\n",
      "12/12 [==============================] - 1s 118ms/step - loss: 0.0088 - val_loss: 4.5552e-04\n",
      "Epoch 8/100\n",
      "12/12 [==============================] - 1s 118ms/step - loss: 0.0077 - val_loss: 4.8112e-04\n",
      "Epoch 9/100\n",
      "12/12 [==============================] - 1s 118ms/step - loss: 0.0094 - val_loss: 0.0035\n",
      "Epoch 10/100\n",
      "12/12 [==============================] - 1s 119ms/step - loss: 0.0075 - val_loss: 4.3674e-04\n",
      "Epoch 11/100\n",
      "12/12 [==============================] - 1s 117ms/step - loss: 0.0066 - val_loss: 5.6479e-04\n",
      "Epoch 12/100\n",
      "12/12 [==============================] - 1s 124ms/step - loss: 0.0069 - val_loss: 6.0987e-04\n",
      "Epoch 13/100\n",
      "12/12 [==============================] - 1s 120ms/step - loss: 0.0054 - val_loss: 0.0017\n",
      "Epoch 14/100\n",
      "12/12 [==============================] - 1s 121ms/step - loss: 0.0073 - val_loss: 3.8815e-04\n",
      "Epoch 15/100\n",
      "12/12 [==============================] - 1s 118ms/step - loss: 0.0059 - val_loss: 7.0688e-04\n",
      "Epoch 16/100\n",
      "12/12 [==============================] - 1s 116ms/step - loss: 0.0048 - val_loss: 5.9563e-04\n",
      "Epoch 17/100\n",
      "12/12 [==============================] - 1s 118ms/step - loss: 0.0039 - val_loss: 4.0163e-04\n",
      "Epoch 18/100\n",
      "12/12 [==============================] - 1s 117ms/step - loss: 0.0036 - val_loss: 3.3833e-04\n",
      "Epoch 19/100\n",
      "12/12 [==============================] - 1s 118ms/step - loss: 0.0035 - val_loss: 4.6604e-04\n",
      "Epoch 20/100\n",
      "12/12 [==============================] - 1s 118ms/step - loss: 0.0025 - val_loss: 3.0395e-04\n",
      "Epoch 21/100\n",
      "12/12 [==============================] - 1s 117ms/step - loss: 0.0040 - val_loss: 9.1671e-04\n",
      "Epoch 22/100\n",
      "12/12 [==============================] - 1s 120ms/step - loss: 0.0040 - val_loss: 3.9592e-04\n",
      "Epoch 23/100\n",
      "12/12 [==============================] - 1s 124ms/step - loss: 0.0032 - val_loss: 3.9761e-04\n",
      "Epoch 24/100\n",
      "12/12 [==============================] - 1s 123ms/step - loss: 0.0022 - val_loss: 3.0768e-04\n",
      "Epoch 25/100\n",
      "12/12 [==============================] - 1s 119ms/step - loss: 0.0020 - val_loss: 3.6387e-04\n",
      "Epoch 26/100\n",
      "12/12 [==============================] - 1s 117ms/step - loss: 0.0022 - val_loss: 3.6269e-04\n",
      "Epoch 27/100\n",
      "12/12 [==============================] - 1s 119ms/step - loss: 0.0020 - val_loss: 3.0332e-04\n",
      "Epoch 28/100\n",
      "12/12 [==============================] - 1s 118ms/step - loss: 0.0019 - val_loss: 4.1087e-04\n",
      "Epoch 29/100\n",
      "12/12 [==============================] - 1s 122ms/step - loss: 0.0018 - val_loss: 2.8100e-04\n",
      "Epoch 30/100\n",
      "12/12 [==============================] - 1s 118ms/step - loss: 0.0019 - val_loss: 2.8836e-04\n",
      "Epoch 31/100\n",
      "12/12 [==============================] - 1s 119ms/step - loss: 0.0016 - val_loss: 2.9665e-04\n",
      "Epoch 32/100\n",
      "12/12 [==============================] - 1s 119ms/step - loss: 0.0021 - val_loss: 3.2982e-04\n",
      "Epoch 33/100\n",
      "12/12 [==============================] - 1s 115ms/step - loss: 0.0026 - val_loss: 6.9546e-04\n",
      "Epoch 34/100\n",
      "12/12 [==============================] - 1s 122ms/step - loss: 0.0019 - val_loss: 3.4569e-04\n",
      "Epoch 35/100\n",
      "12/12 [==============================] - 1s 119ms/step - loss: 0.0027 - val_loss: 3.9047e-04\n",
      "Epoch 36/100\n",
      "12/12 [==============================] - 1s 122ms/step - loss: 0.0035 - val_loss: 3.0103e-04\n",
      "Epoch 37/100\n",
      "12/12 [==============================] - 1s 124ms/step - loss: 0.0029 - val_loss: 3.4799e-04\n",
      "Epoch 38/100\n",
      "12/12 [==============================] - 2s 127ms/step - loss: 0.0022 - val_loss: 5.5832e-04\n",
      "Epoch 39/100\n",
      "12/12 [==============================] - 1s 118ms/step - loss: 0.0019 - val_loss: 3.0746e-04\n",
      "Epoch 40/100\n",
      "12/12 [==============================] - 1s 117ms/step - loss: 0.0017 - val_loss: 3.2027e-04\n",
      "Epoch 41/100\n",
      "12/12 [==============================] - 1s 120ms/step - loss: 0.0028 - val_loss: 3.9971e-04\n",
      "Epoch 42/100\n",
      "12/12 [==============================] - 1s 120ms/step - loss: 0.0029 - val_loss: 3.2146e-04\n",
      "Epoch 43/100\n",
      "12/12 [==============================] - 1s 118ms/step - loss: 0.0026 - val_loss: 4.2469e-04\n",
      "Epoch 44/100\n",
      "12/12 [==============================] - 1s 120ms/step - loss: 0.0018 - val_loss: 2.7819e-04\n",
      "Epoch 45/100\n",
      "12/12 [==============================] - 1s 124ms/step - loss: 0.0019 - val_loss: 3.4693e-04\n",
      "Epoch 46/100\n",
      "12/12 [==============================] - 1s 123ms/step - loss: 0.0017 - val_loss: 2.8386e-04\n",
      "Epoch 47/100\n",
      "12/12 [==============================] - 1s 122ms/step - loss: 0.0020 - val_loss: 2.8066e-04\n",
      "Epoch 48/100\n",
      "12/12 [==============================] - 1s 121ms/step - loss: 0.0020 - val_loss: 3.1787e-04\n",
      "Epoch 49/100\n",
      "12/12 [==============================] - 1s 125ms/step - loss: 0.0018 - val_loss: 2.9159e-04\n",
      "Epoch 50/100\n",
      "12/12 [==============================] - 2s 138ms/step - loss: 0.0016 - val_loss: 2.8532e-04\n",
      "Epoch 51/100\n",
      "12/12 [==============================] - 2s 139ms/step - loss: 0.0018 - val_loss: 2.7017e-04\n",
      "Epoch 52/100\n",
      "12/12 [==============================] - 1s 122ms/step - loss: 0.0018 - val_loss: 2.9421e-04\n",
      "Epoch 53/100\n",
      "12/12 [==============================] - 1s 123ms/step - loss: 0.0018 - val_loss: 2.7844e-04\n",
      "Epoch 54/100\n",
      "12/12 [==============================] - 1s 118ms/step - loss: 0.0019 - val_loss: 3.1958e-04\n",
      "Epoch 55/100\n",
      "12/12 [==============================] - 2s 144ms/step - loss: 0.0042 - val_loss: 2.7090e-04\n",
      "Epoch 56/100\n",
      "12/12 [==============================] - 1s 124ms/step - loss: 0.0039 - val_loss: 3.6607e-04\n",
      "Epoch 57/100\n",
      "12/12 [==============================] - 2s 127ms/step - loss: 0.0039 - val_loss: 2.6134e-04\n",
      "Epoch 58/100\n",
      "12/12 [==============================] - 1s 123ms/step - loss: 0.0030 - val_loss: 2.6252e-04\n",
      "Epoch 59/100\n",
      "12/12 [==============================] - 1s 123ms/step - loss: 0.0025 - val_loss: 3.8292e-04\n",
      "Epoch 60/100\n",
      "12/12 [==============================] - 1s 123ms/step - loss: 0.0024 - val_loss: 2.5753e-04\n",
      "Epoch 61/100\n",
      "12/12 [==============================] - 1s 120ms/step - loss: 0.0022 - val_loss: 4.5439e-04\n",
      "Epoch 62/100\n",
      "12/12 [==============================] - 1s 118ms/step - loss: 0.0020 - val_loss: 2.7268e-04\n",
      "Epoch 63/100\n",
      "12/12 [==============================] - 1s 120ms/step - loss: 0.0018 - val_loss: 2.7374e-04\n",
      "Epoch 64/100\n",
      "12/12 [==============================] - 1s 118ms/step - loss: 0.0016 - val_loss: 3.0033e-04\n",
      "Epoch 65/100\n",
      "12/12 [==============================] - 1s 119ms/step - loss: 0.0020 - val_loss: 3.5755e-04\n",
      "Epoch 66/100\n",
      "12/12 [==============================] - 1s 119ms/step - loss: 0.0018 - val_loss: 2.9818e-04\n",
      "Epoch 67/100\n",
      "12/12 [==============================] - 1s 122ms/step - loss: 0.0020 - val_loss: 3.1653e-04\n",
      "Epoch 68/100\n",
      "12/12 [==============================] - 1s 122ms/step - loss: 0.0015 - val_loss: 2.9106e-04\n",
      "Epoch 69/100\n",
      "12/12 [==============================] - 1s 118ms/step - loss: 0.0017 - val_loss: 3.0122e-04\n",
      "Epoch 70/100\n",
      "12/12 [==============================] - 1s 119ms/step - loss: 0.0014 - val_loss: 3.4430e-04\n",
      "Epoch 71/100\n",
      "12/12 [==============================] - 1s 120ms/step - loss: 0.0017 - val_loss: 3.6936e-04\n",
      "Epoch 72/100\n",
      "12/12 [==============================] - 1s 118ms/step - loss: 0.0049 - val_loss: 0.0014\n",
      "Epoch 73/100\n",
      "12/12 [==============================] - 1s 118ms/step - loss: 0.0051 - val_loss: 2.9317e-04\n",
      "Epoch 74/100\n",
      "12/12 [==============================] - 1s 117ms/step - loss: 0.0035 - val_loss: 3.4867e-04\n",
      "Epoch 75/100\n",
      "12/12 [==============================] - 1s 119ms/step - loss: 0.0023 - val_loss: 3.0970e-04\n",
      "Epoch 76/100\n",
      "12/12 [==============================] - 1s 117ms/step - loss: 0.0020 - val_loss: 2.9797e-04\n",
      "Epoch 77/100\n",
      "12/12 [==============================] - 1s 118ms/step - loss: 0.0017 - val_loss: 2.8203e-04\n",
      "Epoch 78/100\n",
      "12/12 [==============================] - 1s 119ms/step - loss: 0.0016 - val_loss: 2.8095e-04\n",
      "Epoch 79/100\n",
      "12/12 [==============================] - 1s 120ms/step - loss: 0.0029 - val_loss: 6.2105e-04\n",
      "Epoch 80/100\n",
      "12/12 [==============================] - 1s 122ms/step - loss: 0.0023 - val_loss: 0.0012\n",
      "Epoch 81/100\n",
      "12/12 [==============================] - 1s 118ms/step - loss: 0.0026 - val_loss: 8.6292e-04\n",
      "Epoch 82/100\n",
      "12/12 [==============================] - 2s 128ms/step - loss: 0.0018 - val_loss: 2.6402e-04\n",
      "Epoch 83/100\n",
      "12/12 [==============================] - 1s 116ms/step - loss: 0.0013 - val_loss: 2.9818e-04\n",
      "Epoch 84/100\n",
      "12/12 [==============================] - 1s 118ms/step - loss: 0.0013 - val_loss: 3.1080e-04\n",
      "Epoch 85/100\n",
      "12/12 [==============================] - 1s 125ms/step - loss: 0.0011 - val_loss: 2.7597e-04\n",
      "Epoch 86/100\n",
      "12/12 [==============================] - 1s 117ms/step - loss: 0.0015 - val_loss: 2.6989e-04\n",
      "Epoch 87/100\n",
      "12/12 [==============================] - 1s 117ms/step - loss: 0.0020 - val_loss: 3.0389e-04\n",
      "Epoch 88/100\n",
      "12/12 [==============================] - 1s 118ms/step - loss: 0.0027 - val_loss: 2.7837e-04\n",
      "Epoch 89/100\n",
      "12/12 [==============================] - 1s 117ms/step - loss: 0.0022 - val_loss: 2.9408e-04\n",
      "Epoch 90/100\n",
      "12/12 [==============================] - 1s 124ms/step - loss: 0.0028 - val_loss: 3.1955e-04\n",
      "Epoch 91/100\n",
      "12/12 [==============================] - 1s 119ms/step - loss: 0.0019 - val_loss: 3.0178e-04\n",
      "Epoch 92/100\n",
      "12/12 [==============================] - 1s 119ms/step - loss: 0.0015 - val_loss: 2.6510e-04\n",
      "Epoch 93/100\n",
      "12/12 [==============================] - 1s 115ms/step - loss: 0.0015 - val_loss: 2.6277e-04\n",
      "Epoch 94/100\n",
      "12/12 [==============================] - 1s 118ms/step - loss: 0.0014 - val_loss: 2.6173e-04\n",
      "Epoch 95/100\n",
      "12/12 [==============================] - 1s 118ms/step - loss: 0.0015 - val_loss: 2.9112e-04\n",
      "Epoch 96/100\n",
      "12/12 [==============================] - 1s 117ms/step - loss: 0.0012 - val_loss: 2.7643e-04\n",
      "Epoch 97/100\n",
      "12/12 [==============================] - 1s 118ms/step - loss: 0.0021 - val_loss: 4.3563e-04\n",
      "Epoch 98/100\n",
      "12/12 [==============================] - 1s 113ms/step - loss: 0.0016 - val_loss: 2.6277e-04\n",
      "Epoch 99/100\n",
      "12/12 [==============================] - 1s 117ms/step - loss: 0.0013 - val_loss: 2.5868e-04\n",
      "Epoch 100/100\n",
      "12/12 [==============================] - 1s 117ms/step - loss: 0.0018 - val_loss: 2.8819e-04\n"
     ]
    },
    {
     "data": {
      "text/plain": [
       "<keras.callbacks.History at 0x24492d95570>"
      ]
     },
     "execution_count": 23,
     "metadata": {},
     "output_type": "execute_result"
    }
   ],
   "source": [
    "model.fit(X_train,y_train,validation_data = (X_test,y_test),epochs=100,batch_size=64,verbose=1)"
   ]
  },
  {
   "cell_type": "code",
   "execution_count": 24,
   "id": "97152aed",
   "metadata": {},
   "outputs": [
    {
     "name": "stdout",
     "output_type": "stream",
     "text": [
      "23/23 [==============================] - 1s 23ms/step\n",
      "11/11 [==============================] - 0s 21ms/step\n"
     ]
    }
   ],
   "source": [
    "train_predict = model.predict(X_train)\n",
    "test_predict = model.predict(X_test)"
   ]
  },
  {
   "cell_type": "code",
   "execution_count": 27,
   "id": "922aca62",
   "metadata": {},
   "outputs": [],
   "source": [
    "train_predict = scaler.inverse_transform(train_predict)\n",
    "test_predict = scaler.inverse_transform(test_predict)"
   ]
  },
  {
   "cell_type": "code",
   "execution_count": 28,
   "id": "6f5aa85e",
   "metadata": {},
   "outputs": [],
   "source": [
    "import math\n",
    "from sklearn.metrics import mean_squared_error"
   ]
  },
  {
   "cell_type": "code",
   "execution_count": 29,
   "id": "a527c493",
   "metadata": {},
   "outputs": [
    {
     "data": {
      "text/plain": [
       "228.96324494129448"
      ]
     },
     "execution_count": 29,
     "metadata": {},
     "output_type": "execute_result"
    }
   ],
   "source": [
    "math.sqrt(mean_squared_error(y_train,train_predict))"
   ]
  },
  {
   "cell_type": "code",
   "execution_count": 30,
   "id": "5a1a7669",
   "metadata": {},
   "outputs": [
    {
     "data": {
      "text/plain": [
       "157.17055563389414"
      ]
     },
     "execution_count": 30,
     "metadata": {},
     "output_type": "execute_result"
    }
   ],
   "source": [
    "math.sqrt(mean_squared_error(y_test,test_predict))"
   ]
  },
  {
   "cell_type": "code",
   "execution_count": null,
   "id": "b5b393f2",
   "metadata": {},
   "outputs": [],
   "source": []
  },
  {
   "cell_type": "code",
   "execution_count": 35,
   "id": "3643c770",
   "metadata": {},
   "outputs": [
    {
     "data": {
      "image/png": "[encoded data removed]",
      "text/plain": [
       "<Figure size 640x480 with 1 Axes>"
      ]
     },
     "metadata": {},
     "output_type": "display_data"
    }
   ],
   "source": [
    "### Plotting \n",
    "# shift train predictions for plotting\n",
    "look_back=100\n",
    "trainPredictPlot = np.empty_like(df1)\n",
    "trainPredictPlot[:, :] = np.nan\n",
    "trainPredictPlot[look_back:len(train_predict)+look_back, :] = train_predict\n",
    "# shift test predictions for plotting\n",
    "testPredictPlot = np.empty_like(df1)\n",
    "testPredictPlot[:, :] = np.nan\n",
    "testPredictPlot[len(train_predict)+(look_back*2)+1:len(df1)-1, :] = test_predict\n",
    "# plot baseline and predictions\n",
    "plt.plot(scaler.inverse_transform(df1))\n",
    "plt.plot(trainPredictPlot)\n",
    "plt.plot(testPredictPlot)\n",
    "plt.show()"
   ]
  },
  {
   "cell_type": "code",
   "execution_count": 36,
   "id": "859797bd",
   "metadata": {},
   "outputs": [
    {
     "data": {
      "text/plain": [
       "441"
      ]
     },
     "execution_count": 36,
     "metadata": {},
     "output_type": "execute_result"
    }
   ],
   "source": [
    "len(test_data)"
   ]
  },
  {
   "cell_type": "code",
   "execution_count": 49,
   "id": "5d77b301",
   "metadata": {},
   "outputs": [
    {
     "data": {
      "text/plain": [
       "(1, 100)"
      ]
     },
     "execution_count": 49,
     "metadata": {},
     "output_type": "execute_result"
    }
   ],
   "source": [
    "# we need last 100 days data to predict nect 30days\n",
    "x_input =test_data[341:].reshape(1,-1)\n",
    "x_input.shape"
   ]
  },
  {
   "cell_type": "code",
   "execution_count": 50,
   "id": "42d5b78d",
   "metadata": {},
   "outputs": [],
   "source": [
    "temp_input = list(x_input)\n",
    "temp_input =temp_input[0].tolist()"
   ]
  },
  {
   "cell_type": "code",
   "execution_count": 58,
   "id": "63e4d389",
   "metadata": {},
   "outputs": [
    {
     "data": {
      "text/plain": [
       "[0.07428929242329363,\n",
       " 0.06930494677520344,\n",
       " 0.06394489668127734,\n",
       " 0.06376956793988725,\n",
       " 0.07165936130244199,\n",
       " 0.0635942391984971,\n",
       " 0.06266750156543521,\n",
       " 0.05808390732623664,\n",
       " 0.04809016906700059,\n",
       " 0.05703193487789604,\n",
       " 0.05783343769567939,\n",
       " 0.04566061365059482,\n",
       " 0.04889167188478394,\n",
       " 0.045535378835316165,\n",
       " 0.05705698184095176,\n",
       " 0.05838447088290544,\n",
       " 0.05983719474013771,\n",
       " 0.06675015654351907,\n",
       " 0.0665497808390732,\n",
       " 0.0699311208515967,\n",
       " 0.0728866624921728,\n",
       " 0.07105823418910456,\n",
       " 0.07120851596743893,\n",
       " 0.07772072636192856,\n",
       " 0.08583594239198494,\n",
       " 0.08939261114589853,\n",
       " 0.08771446462116467,\n",
       " 0.09297432686286783,\n",
       " 0.09790857858484658,\n",
       " 0.09056981840951783,\n",
       " 0.0938008766437069,\n",
       " 0.09665623043206006,\n",
       " 0.11015654351909826,\n",
       " 0.11937382592360674,\n",
       " 0.1124358171571696,\n",
       " 0.11974953036944269,\n",
       " 0.11291170945522849,\n",
       " 0.11028177833437691,\n",
       " 0.1106324358171571,\n",
       " 0.11774577332498432,\n",
       " 0.11611772072636184,\n",
       " 0.12145272385723233,\n",
       " 0.11739511584220413,\n",
       " 0.11448966812773947,\n",
       " 0.10429555416405756,\n",
       " 0.10537257357545393,\n",
       " 0.10659987476518468,\n",
       " 0.09986224170319347,\n",
       " 0.10289292423293667,\n",
       " 0.10161552911709448,\n",
       " 0.09635566687539132,\n",
       " 0.09785848465873509,\n",
       " 0.11068252974326859,\n",
       " 0.11769567939887288,\n",
       " 0.11211020663744514,\n",
       " 0.11529117094552283,\n",
       " 0.1095804633688165,\n",
       " 0.10434564809016905,\n",
       " 0.10927989981214775,\n",
       " 0.11458985597996241,\n",
       " 0.11559173450219157,\n",
       " 0.12275516593613017,\n",
       " 0.1206261740763932,\n",
       " 0.12663744520976827,\n",
       " 0.13134627426424544,\n",
       " 0.12771446462116465,\n",
       " 0.13046963055729488,\n",
       " 0.13377582968065116,\n",
       " 0.12884157795867246,\n",
       " 0.12726361928616153,\n",
       " 0.13507827175954912,\n",
       " 0.13238772749900818,\n",
       " 0.1335916370153427,\n",
       " 0.13462376594543457,\n",
       " 0.13552340865135193,\n",
       " 0.1363297551870346,\n",
       " 0.13707558810710907,\n",
       " 0.13778598606586456,\n",
       " 0.13847896456718445,\n",
       " 0.13916663825511932,\n",
       " 0.13985665142536163,\n",
       " 0.14055339992046356,\n",
       " 0.1412588506937027,\n",
       " 0.1419733464717865,\n",
       " 0.14269614219665527,\n",
       " 0.14342573285102844,\n",
       " 0.14416036009788513,\n",
       " 0.14489808678627014,\n",
       " 0.14563699066638947,\n",
       " 0.14637534320354462,\n",
       " 0.14711153507232666,\n",
       " 0.14784447848796844,\n",
       " 0.148573100566864,\n",
       " 0.1492968052625656,\n",
       " 0.1500152051448822,\n",
       " 0.15072813630104065,\n",
       " 0.1514355093240738,\n",
       " 0.15213757753372192,\n",
       " 0.15283457934856415,\n",
       " 0.1535268872976303,\n",
       " 0.15421482920646667]"
      ]
     },
     "execution_count": 58,
     "metadata": {},
     "output_type": "execute_result"
    }
   ],
   "source": [
    "temp_input"
   ]
  },
  {
   "cell_type": "code",
   "execution_count": 51,
   "id": "c3a0697a",
   "metadata": {},
   "outputs": [
    {
     "name": "stdout",
     "output_type": "stream",
     "text": [
      "[0.13238773]\n",
      "101\n",
      "1 day input [0.07899812 0.08035066 0.08180338 0.07020664 0.10026299 0.10735128\n",
      " 0.10379461 0.10820288 0.10507201 0.10990607 0.11133375 0.10311835\n",
      " 0.10855354 0.11078272 0.10336882 0.09362555 0.08598622 0.10316844\n",
      " 0.10386976 0.10261741 0.09966187 0.0903444  0.08541014 0.08969317\n",
      " 0.08846587 0.09430182 0.09675642 0.0910958  0.07428929 0.06930495\n",
      " 0.0639449  0.06376957 0.07165936 0.06359424 0.0626675  0.05808391\n",
      " 0.04809017 0.05703193 0.05783344 0.04566061 0.04889167 0.04553538\n",
      " 0.05705698 0.05838447 0.05983719 0.06675016 0.06654978 0.06993112\n",
      " 0.07288666 0.07105823 0.07120852 0.07772073 0.08583594 0.08939261\n",
      " 0.08771446 0.09297433 0.09790858 0.09056982 0.09380088 0.09665623\n",
      " 0.11015654 0.11937383 0.11243582 0.11974953 0.11291171 0.11028178\n",
      " 0.11063244 0.11774577 0.11611772 0.12145272 0.11739512 0.11448967\n",
      " 0.10429555 0.10537257 0.10659987 0.09986224 0.10289292 0.10161553\n",
      " 0.09635567 0.09785848 0.11068253 0.11769568 0.11211021 0.11529117\n",
      " 0.10958046 0.10434565 0.1092799  0.11458986 0.11559173 0.12275517\n",
      " 0.12062617 0.12663745 0.13134627 0.12771446 0.13046963 0.13377583\n",
      " 0.12884158 0.12726362 0.13507827 0.13238773]\n",
      "1 day output [[0.13359164]]\n",
      "2 day input [0.08035066 0.08180338 0.07020664 0.10026299 0.10735128 0.10379461\n",
      " 0.10820288 0.10507201 0.10990607 0.11133375 0.10311835 0.10855354\n",
      " 0.11078272 0.10336882 0.09362555 0.08598622 0.10316844 0.10386976\n",
      " 0.10261741 0.09966187 0.0903444  0.08541014 0.08969317 0.08846587\n",
      " 0.09430182 0.09675642 0.0910958  0.07428929 0.06930495 0.0639449\n",
      " 0.06376957 0.07165936 0.06359424 0.0626675  0.05808391 0.04809017\n",
      " 0.05703193 0.05783344 0.04566061 0.04889167 0.04553538 0.05705698\n",
      " 0.05838447 0.05983719 0.06675016 0.06654978 0.06993112 0.07288666\n",
      " 0.07105823 0.07120852 0.07772073 0.08583594 0.08939261 0.08771446\n",
      " 0.09297433 0.09790858 0.09056982 0.09380088 0.09665623 0.11015654\n",
      " 0.11937383 0.11243582 0.11974953 0.11291171 0.11028178 0.11063244\n",
      " 0.11774577 0.11611772 0.12145272 0.11739512 0.11448967 0.10429555\n",
      " 0.10537257 0.10659987 0.09986224 0.10289292 0.10161553 0.09635567\n",
      " 0.09785848 0.11068253 0.11769568 0.11211021 0.11529117 0.10958046\n",
      " 0.10434565 0.1092799  0.11458986 0.11559173 0.12275517 0.12062617\n",
      " 0.12663745 0.13134627 0.12771446 0.13046963 0.13377583 0.12884158\n",
      " 0.12726362 0.13507827 0.13238773 0.13359164]\n",
      "2 day output [[0.13462377]]\n",
      "3 day input [0.08180338 0.07020664 0.10026299 0.10735128 0.10379461 0.10820288\n",
      " 0.10507201 0.10990607 0.11133375 0.10311835 0.10855354 0.11078272\n",
      " 0.10336882 0.09362555 0.08598622 0.10316844 0.10386976 0.10261741\n",
      " 0.09966187 0.0903444  0.08541014 0.08969317 0.08846587 0.09430182\n",
      " 0.09675642 0.0910958  0.07428929 0.06930495 0.0639449  0.06376957\n",
      " 0.07165936 0.06359424 0.0626675  0.05808391 0.04809017 0.05703193\n",
      " 0.05783344 0.04566061 0.04889167 0.04553538 0.05705698 0.05838447\n",
      " 0.05983719 0.06675016 0.06654978 0.06993112 0.07288666 0.07105823\n",
      " 0.07120852 0.07772073 0.08583594 0.08939261 0.08771446 0.09297433\n",
      " 0.09790858 0.09056982 0.09380088 0.09665623 0.11015654 0.11937383\n",
      " 0.11243582 0.11974953 0.11291171 0.11028178 0.11063244 0.11774577\n",
      " 0.11611772 0.12145272 0.11739512 0.11448967 0.10429555 0.10537257\n",
      " 0.10659987 0.09986224 0.10289292 0.10161553 0.09635567 0.09785848\n",
      " 0.11068253 0.11769568 0.11211021 0.11529117 0.10958046 0.10434565\n",
      " 0.1092799  0.11458986 0.11559173 0.12275517 0.12062617 0.12663745\n",
      " 0.13134627 0.12771446 0.13046963 0.13377583 0.12884158 0.12726362\n",
      " 0.13507827 0.13238773 0.13359164 0.13462377]\n",
      "3 day output [[0.13552341]]\n",
      "4 day input [0.07020664 0.10026299 0.10735128 0.10379461 0.10820288 0.10507201\n",
      " 0.10990607 0.11133375 0.10311835 0.10855354 0.11078272 0.10336882\n",
      " 0.09362555 0.08598622 0.10316844 0.10386976 0.10261741 0.09966187\n",
      " 0.0903444  0.08541014 0.08969317 0.08846587 0.09430182 0.09675642\n",
      " 0.0910958  0.07428929 0.06930495 0.0639449  0.06376957 0.07165936\n",
      " 0.06359424 0.0626675  0.05808391 0.04809017 0.05703193 0.05783344\n",
      " 0.04566061 0.04889167 0.04553538 0.05705698 0.05838447 0.05983719\n",
      " 0.06675016 0.06654978 0.06993112 0.07288666 0.07105823 0.07120852\n",
      " 0.07772073 0.08583594 0.08939261 0.08771446 0.09297433 0.09790858\n",
      " 0.09056982 0.09380088 0.09665623 0.11015654 0.11937383 0.11243582\n",
      " 0.11974953 0.11291171 0.11028178 0.11063244 0.11774577 0.11611772\n",
      " 0.12145272 0.11739512 0.11448967 0.10429555 0.10537257 0.10659987\n",
      " 0.09986224 0.10289292 0.10161553 0.09635567 0.09785848 0.11068253\n",
      " 0.11769568 0.11211021 0.11529117 0.10958046 0.10434565 0.1092799\n",
      " 0.11458986 0.11559173 0.12275517 0.12062617 0.12663745 0.13134627\n",
      " 0.12771446 0.13046963 0.13377583 0.12884158 0.12726362 0.13507827\n",
      " 0.13238773 0.13359164 0.13462377 0.13552341]\n",
      "4 day output [[0.13632976]]\n",
      "5 day input [0.10026299 0.10735128 0.10379461 0.10820288 0.10507201 0.10990607\n",
      " 0.11133375 0.10311835 0.10855354 0.11078272 0.10336882 0.09362555\n",
      " 0.08598622 0.10316844 0.10386976 0.10261741 0.09966187 0.0903444\n",
      " 0.08541014 0.08969317 0.08846587 0.09430182 0.09675642 0.0910958\n",
      " 0.07428929 0.06930495 0.0639449  0.06376957 0.07165936 0.06359424\n",
      " 0.0626675  0.05808391 0.04809017 0.05703193 0.05783344 0.04566061\n",
      " 0.04889167 0.04553538 0.05705698 0.05838447 0.05983719 0.06675016\n",
      " 0.06654978 0.06993112 0.07288666 0.07105823 0.07120852 0.07772073\n",
      " 0.08583594 0.08939261 0.08771446 0.09297433 0.09790858 0.09056982\n",
      " 0.09380088 0.09665623 0.11015654 0.11937383 0.11243582 0.11974953\n",
      " 0.11291171 0.11028178 0.11063244 0.11774577 0.11611772 0.12145272\n",
      " 0.11739512 0.11448967 0.10429555 0.10537257 0.10659987 0.09986224\n",
      " 0.10289292 0.10161553 0.09635567 0.09785848 0.11068253 0.11769568\n",
      " 0.11211021 0.11529117 0.10958046 0.10434565 0.1092799  0.11458986\n",
      " 0.11559173 0.12275517 0.12062617 0.12663745 0.13134627 0.12771446\n",
      " 0.13046963 0.13377583 0.12884158 0.12726362 0.13507827 0.13238773\n",
      " 0.13359164 0.13462377 0.13552341 0.13632976]\n",
      "5 day output [[0.13707559]]\n",
      "6 day input [0.10735128 0.10379461 0.10820288 0.10507201 0.10990607 0.11133375\n",
      " 0.10311835 0.10855354 0.11078272 0.10336882 0.09362555 0.08598622\n",
      " 0.10316844 0.10386976 0.10261741 0.09966187 0.0903444  0.08541014\n",
      " 0.08969317 0.08846587 0.09430182 0.09675642 0.0910958  0.07428929\n",
      " 0.06930495 0.0639449  0.06376957 0.07165936 0.06359424 0.0626675\n",
      " 0.05808391 0.04809017 0.05703193 0.05783344 0.04566061 0.04889167\n",
      " 0.04553538 0.05705698 0.05838447 0.05983719 0.06675016 0.06654978\n",
      " 0.06993112 0.07288666 0.07105823 0.07120852 0.07772073 0.08583594\n",
      " 0.08939261 0.08771446 0.09297433 0.09790858 0.09056982 0.09380088\n",
      " 0.09665623 0.11015654 0.11937383 0.11243582 0.11974953 0.11291171\n",
      " 0.11028178 0.11063244 0.11774577 0.11611772 0.12145272 0.11739512\n",
      " 0.11448967 0.10429555 0.10537257 0.10659987 0.09986224 0.10289292\n",
      " 0.10161553 0.09635567 0.09785848 0.11068253 0.11769568 0.11211021\n",
      " 0.11529117 0.10958046 0.10434565 0.1092799  0.11458986 0.11559173\n",
      " 0.12275517 0.12062617 0.12663745 0.13134627 0.12771446 0.13046963\n",
      " 0.13377583 0.12884158 0.12726362 0.13507827 0.13238773 0.13359164\n",
      " 0.13462377 0.13552341 0.13632976 0.13707559]\n",
      "6 day output [[0.13778599]]\n",
      "7 day input [0.10379461 0.10820288 0.10507201 0.10990607 0.11133375 0.10311835\n",
      " 0.10855354 0.11078272 0.10336882 0.09362555 0.08598622 0.10316844\n",
      " 0.10386976 0.10261741 0.09966187 0.0903444  0.08541014 0.08969317\n",
      " 0.08846587 0.09430182 0.09675642 0.0910958  0.07428929 0.06930495\n",
      " 0.0639449  0.06376957 0.07165936 0.06359424 0.0626675  0.05808391\n",
      " 0.04809017 0.05703193 0.05783344 0.04566061 0.04889167 0.04553538\n",
      " 0.05705698 0.05838447 0.05983719 0.06675016 0.06654978 0.06993112\n",
      " 0.07288666 0.07105823 0.07120852 0.07772073 0.08583594 0.08939261\n",
      " 0.08771446 0.09297433 0.09790858 0.09056982 0.09380088 0.09665623\n",
      " 0.11015654 0.11937383 0.11243582 0.11974953 0.11291171 0.11028178\n",
      " 0.11063244 0.11774577 0.11611772 0.12145272 0.11739512 0.11448967\n",
      " 0.10429555 0.10537257 0.10659987 0.09986224 0.10289292 0.10161553\n",
      " 0.09635567 0.09785848 0.11068253 0.11769568 0.11211021 0.11529117\n",
      " 0.10958046 0.10434565 0.1092799  0.11458986 0.11559173 0.12275517\n",
      " 0.12062617 0.12663745 0.13134627 0.12771446 0.13046963 0.13377583\n",
      " 0.12884158 0.12726362 0.13507827 0.13238773 0.13359164 0.13462377\n",
      " 0.13552341 0.13632976 0.13707559 0.13778599]\n",
      "7 day output [[0.13847896]]\n",
      "8 day input [0.10820288 0.10507201 0.10990607 0.11133375 0.10311835 0.10855354\n",
      " 0.11078272 0.10336882 0.09362555 0.08598622 0.10316844 0.10386976\n",
      " 0.10261741 0.09966187 0.0903444  0.08541014 0.08969317 0.08846587\n",
      " 0.09430182 0.09675642 0.0910958  0.07428929 0.06930495 0.0639449\n",
      " 0.06376957 0.07165936 0.06359424 0.0626675  0.05808391 0.04809017\n",
      " 0.05703193 0.05783344 0.04566061 0.04889167 0.04553538 0.05705698\n",
      " 0.05838447 0.05983719 0.06675016 0.06654978 0.06993112 0.07288666\n",
      " 0.07105823 0.07120852 0.07772073 0.08583594 0.08939261 0.08771446\n",
      " 0.09297433 0.09790858 0.09056982 0.09380088 0.09665623 0.11015654\n",
      " 0.11937383 0.11243582 0.11974953 0.11291171 0.11028178 0.11063244\n",
      " 0.11774577 0.11611772 0.12145272 0.11739512 0.11448967 0.10429555\n",
      " 0.10537257 0.10659987 0.09986224 0.10289292 0.10161553 0.09635567\n",
      " 0.09785848 0.11068253 0.11769568 0.11211021 0.11529117 0.10958046\n",
      " 0.10434565 0.1092799  0.11458986 0.11559173 0.12275517 0.12062617\n",
      " 0.12663745 0.13134627 0.12771446 0.13046963 0.13377583 0.12884158\n",
      " 0.12726362 0.13507827 0.13238773 0.13359164 0.13462377 0.13552341\n",
      " 0.13632976 0.13707559 0.13778599 0.13847896]\n",
      "8 day output [[0.13916664]]\n",
      "9 day input [0.10507201 0.10990607 0.11133375 0.10311835 0.10855354 0.11078272\n",
      " 0.10336882 0.09362555 0.08598622 0.10316844 0.10386976 0.10261741\n",
      " 0.09966187 0.0903444  0.08541014 0.08969317 0.08846587 0.09430182\n",
      " 0.09675642 0.0910958  0.07428929 0.06930495 0.0639449  0.06376957\n",
      " 0.07165936 0.06359424 0.0626675  0.05808391 0.04809017 0.05703193\n",
      " 0.05783344 0.04566061 0.04889167 0.04553538 0.05705698 0.05838447\n",
      " 0.05983719 0.06675016 0.06654978 0.06993112 0.07288666 0.07105823\n",
      " 0.07120852 0.07772073 0.08583594 0.08939261 0.08771446 0.09297433\n",
      " 0.09790858 0.09056982 0.09380088 0.09665623 0.11015654 0.11937383\n",
      " 0.11243582 0.11974953 0.11291171 0.11028178 0.11063244 0.11774577\n",
      " 0.11611772 0.12145272 0.11739512 0.11448967 0.10429555 0.10537257\n",
      " 0.10659987 0.09986224 0.10289292 0.10161553 0.09635567 0.09785848\n",
      " 0.11068253 0.11769568 0.11211021 0.11529117 0.10958046 0.10434565\n",
      " 0.1092799  0.11458986 0.11559173 0.12275517 0.12062617 0.12663745\n",
      " 0.13134627 0.12771446 0.13046963 0.13377583 0.12884158 0.12726362\n",
      " 0.13507827 0.13238773 0.13359164 0.13462377 0.13552341 0.13632976\n",
      " 0.13707559 0.13778599 0.13847896 0.13916664]\n",
      "9 day output [[0.13985665]]\n",
      "10 day input [0.10990607 0.11133375 0.10311835 0.10855354 0.11078272 0.10336882\n",
      " 0.09362555 0.08598622 0.10316844 0.10386976 0.10261741 0.09966187\n",
      " 0.0903444  0.08541014 0.08969317 0.08846587 0.09430182 0.09675642\n",
      " 0.0910958  0.07428929 0.06930495 0.0639449  0.06376957 0.07165936\n",
      " 0.06359424 0.0626675  0.05808391 0.04809017 0.05703193 0.05783344\n",
      " 0.04566061 0.04889167 0.04553538 0.05705698 0.05838447 0.05983719\n",
      " 0.06675016 0.06654978 0.06993112 0.07288666 0.07105823 0.07120852\n",
      " 0.07772073 0.08583594 0.08939261 0.08771446 0.09297433 0.09790858\n",
      " 0.09056982 0.09380088 0.09665623 0.11015654 0.11937383 0.11243582\n",
      " 0.11974953 0.11291171 0.11028178 0.11063244 0.11774577 0.11611772\n",
      " 0.12145272 0.11739512 0.11448967 0.10429555 0.10537257 0.10659987\n",
      " 0.09986224 0.10289292 0.10161553 0.09635567 0.09785848 0.11068253\n",
      " 0.11769568 0.11211021 0.11529117 0.10958046 0.10434565 0.1092799\n",
      " 0.11458986 0.11559173 0.12275517 0.12062617 0.12663745 0.13134627\n",
      " 0.12771446 0.13046963 0.13377583 0.12884158 0.12726362 0.13507827\n",
      " 0.13238773 0.13359164 0.13462377 0.13552341 0.13632976 0.13707559\n",
      " 0.13778599 0.13847896 0.13916664 0.13985665]\n",
      "10 day output [[0.1405534]]\n",
      "11 day input [0.11133375 0.10311835 0.10855354 0.11078272 0.10336882 0.09362555\n",
      " 0.08598622 0.10316844 0.10386976 0.10261741 0.09966187 0.0903444\n",
      " 0.08541014 0.08969317 0.08846587 0.09430182 0.09675642 0.0910958\n",
      " 0.07428929 0.06930495 0.0639449  0.06376957 0.07165936 0.06359424\n",
      " 0.0626675  0.05808391 0.04809017 0.05703193 0.05783344 0.04566061\n",
      " 0.04889167 0.04553538 0.05705698 0.05838447 0.05983719 0.06675016\n",
      " 0.06654978 0.06993112 0.07288666 0.07105823 0.07120852 0.07772073\n",
      " 0.08583594 0.08939261 0.08771446 0.09297433 0.09790858 0.09056982\n",
      " 0.09380088 0.09665623 0.11015654 0.11937383 0.11243582 0.11974953\n",
      " 0.11291171 0.11028178 0.11063244 0.11774577 0.11611772 0.12145272\n",
      " 0.11739512 0.11448967 0.10429555 0.10537257 0.10659987 0.09986224\n",
      " 0.10289292 0.10161553 0.09635567 0.09785848 0.11068253 0.11769568\n",
      " 0.11211021 0.11529117 0.10958046 0.10434565 0.1092799  0.11458986\n",
      " 0.11559173 0.12275517 0.12062617 0.12663745 0.13134627 0.12771446\n",
      " 0.13046963 0.13377583 0.12884158 0.12726362 0.13507827 0.13238773\n",
      " 0.13359164 0.13462377 0.13552341 0.13632976 0.13707559 0.13778599\n",
      " 0.13847896 0.13916664 0.13985665 0.1405534 ]\n"
     ]
    },
    {
     "name": "stdout",
     "output_type": "stream",
     "text": [
      "11 day output [[0.14125885]]\n",
      "12 day input [0.10311835 0.10855354 0.11078272 0.10336882 0.09362555 0.08598622\n",
      " 0.10316844 0.10386976 0.10261741 0.09966187 0.0903444  0.08541014\n",
      " 0.08969317 0.08846587 0.09430182 0.09675642 0.0910958  0.07428929\n",
      " 0.06930495 0.0639449  0.06376957 0.07165936 0.06359424 0.0626675\n",
      " 0.05808391 0.04809017 0.05703193 0.05783344 0.04566061 0.04889167\n",
      " 0.04553538 0.05705698 0.05838447 0.05983719 0.06675016 0.06654978\n",
      " 0.06993112 0.07288666 0.07105823 0.07120852 0.07772073 0.08583594\n",
      " 0.08939261 0.08771446 0.09297433 0.09790858 0.09056982 0.09380088\n",
      " 0.09665623 0.11015654 0.11937383 0.11243582 0.11974953 0.11291171\n",
      " 0.11028178 0.11063244 0.11774577 0.11611772 0.12145272 0.11739512\n",
      " 0.11448967 0.10429555 0.10537257 0.10659987 0.09986224 0.10289292\n",
      " 0.10161553 0.09635567 0.09785848 0.11068253 0.11769568 0.11211021\n",
      " 0.11529117 0.10958046 0.10434565 0.1092799  0.11458986 0.11559173\n",
      " 0.12275517 0.12062617 0.12663745 0.13134627 0.12771446 0.13046963\n",
      " 0.13377583 0.12884158 0.12726362 0.13507827 0.13238773 0.13359164\n",
      " 0.13462377 0.13552341 0.13632976 0.13707559 0.13778599 0.13847896\n",
      " 0.13916664 0.13985665 0.1405534  0.14125885]\n",
      "12 day output [[0.14197335]]\n",
      "13 day input [0.10855354 0.11078272 0.10336882 0.09362555 0.08598622 0.10316844\n",
      " 0.10386976 0.10261741 0.09966187 0.0903444  0.08541014 0.08969317\n",
      " 0.08846587 0.09430182 0.09675642 0.0910958  0.07428929 0.06930495\n",
      " 0.0639449  0.06376957 0.07165936 0.06359424 0.0626675  0.05808391\n",
      " 0.04809017 0.05703193 0.05783344 0.04566061 0.04889167 0.04553538\n",
      " 0.05705698 0.05838447 0.05983719 0.06675016 0.06654978 0.06993112\n",
      " 0.07288666 0.07105823 0.07120852 0.07772073 0.08583594 0.08939261\n",
      " 0.08771446 0.09297433 0.09790858 0.09056982 0.09380088 0.09665623\n",
      " 0.11015654 0.11937383 0.11243582 0.11974953 0.11291171 0.11028178\n",
      " 0.11063244 0.11774577 0.11611772 0.12145272 0.11739512 0.11448967\n",
      " 0.10429555 0.10537257 0.10659987 0.09986224 0.10289292 0.10161553\n",
      " 0.09635567 0.09785848 0.11068253 0.11769568 0.11211021 0.11529117\n",
      " 0.10958046 0.10434565 0.1092799  0.11458986 0.11559173 0.12275517\n",
      " 0.12062617 0.12663745 0.13134627 0.12771446 0.13046963 0.13377583\n",
      " 0.12884158 0.12726362 0.13507827 0.13238773 0.13359164 0.13462377\n",
      " 0.13552341 0.13632976 0.13707559 0.13778599 0.13847896 0.13916664\n",
      " 0.13985665 0.1405534  0.14125885 0.14197335]\n",
      "13 day output [[0.14269614]]\n",
      "14 day input [0.11078272 0.10336882 0.09362555 0.08598622 0.10316844 0.10386976\n",
      " 0.10261741 0.09966187 0.0903444  0.08541014 0.08969317 0.08846587\n",
      " 0.09430182 0.09675642 0.0910958  0.07428929 0.06930495 0.0639449\n",
      " 0.06376957 0.07165936 0.06359424 0.0626675  0.05808391 0.04809017\n",
      " 0.05703193 0.05783344 0.04566061 0.04889167 0.04553538 0.05705698\n",
      " 0.05838447 0.05983719 0.06675016 0.06654978 0.06993112 0.07288666\n",
      " 0.07105823 0.07120852 0.07772073 0.08583594 0.08939261 0.08771446\n",
      " 0.09297433 0.09790858 0.09056982 0.09380088 0.09665623 0.11015654\n",
      " 0.11937383 0.11243582 0.11974953 0.11291171 0.11028178 0.11063244\n",
      " 0.11774577 0.11611772 0.12145272 0.11739512 0.11448967 0.10429555\n",
      " 0.10537257 0.10659987 0.09986224 0.10289292 0.10161553 0.09635567\n",
      " 0.09785848 0.11068253 0.11769568 0.11211021 0.11529117 0.10958046\n",
      " 0.10434565 0.1092799  0.11458986 0.11559173 0.12275517 0.12062617\n",
      " 0.12663745 0.13134627 0.12771446 0.13046963 0.13377583 0.12884158\n",
      " 0.12726362 0.13507827 0.13238773 0.13359164 0.13462377 0.13552341\n",
      " 0.13632976 0.13707559 0.13778599 0.13847896 0.13916664 0.13985665\n",
      " 0.1405534  0.14125885 0.14197335 0.14269614]\n",
      "14 day output [[0.14342573]]\n",
      "15 day input [0.10336882 0.09362555 0.08598622 0.10316844 0.10386976 0.10261741\n",
      " 0.09966187 0.0903444  0.08541014 0.08969317 0.08846587 0.09430182\n",
      " 0.09675642 0.0910958  0.07428929 0.06930495 0.0639449  0.06376957\n",
      " 0.07165936 0.06359424 0.0626675  0.05808391 0.04809017 0.05703193\n",
      " 0.05783344 0.04566061 0.04889167 0.04553538 0.05705698 0.05838447\n",
      " 0.05983719 0.06675016 0.06654978 0.06993112 0.07288666 0.07105823\n",
      " 0.07120852 0.07772073 0.08583594 0.08939261 0.08771446 0.09297433\n",
      " 0.09790858 0.09056982 0.09380088 0.09665623 0.11015654 0.11937383\n",
      " 0.11243582 0.11974953 0.11291171 0.11028178 0.11063244 0.11774577\n",
      " 0.11611772 0.12145272 0.11739512 0.11448967 0.10429555 0.10537257\n",
      " 0.10659987 0.09986224 0.10289292 0.10161553 0.09635567 0.09785848\n",
      " 0.11068253 0.11769568 0.11211021 0.11529117 0.10958046 0.10434565\n",
      " 0.1092799  0.11458986 0.11559173 0.12275517 0.12062617 0.12663745\n",
      " 0.13134627 0.12771446 0.13046963 0.13377583 0.12884158 0.12726362\n",
      " 0.13507827 0.13238773 0.13359164 0.13462377 0.13552341 0.13632976\n",
      " 0.13707559 0.13778599 0.13847896 0.13916664 0.13985665 0.1405534\n",
      " 0.14125885 0.14197335 0.14269614 0.14342573]\n",
      "15 day output [[0.14416036]]\n",
      "16 day input [0.09362555 0.08598622 0.10316844 0.10386976 0.10261741 0.09966187\n",
      " 0.0903444  0.08541014 0.08969317 0.08846587 0.09430182 0.09675642\n",
      " 0.0910958  0.07428929 0.06930495 0.0639449  0.06376957 0.07165936\n",
      " 0.06359424 0.0626675  0.05808391 0.04809017 0.05703193 0.05783344\n",
      " 0.04566061 0.04889167 0.04553538 0.05705698 0.05838447 0.05983719\n",
      " 0.06675016 0.06654978 0.06993112 0.07288666 0.07105823 0.07120852\n",
      " 0.07772073 0.08583594 0.08939261 0.08771446 0.09297433 0.09790858\n",
      " 0.09056982 0.09380088 0.09665623 0.11015654 0.11937383 0.11243582\n",
      " 0.11974953 0.11291171 0.11028178 0.11063244 0.11774577 0.11611772\n",
      " 0.12145272 0.11739512 0.11448967 0.10429555 0.10537257 0.10659987\n",
      " 0.09986224 0.10289292 0.10161553 0.09635567 0.09785848 0.11068253\n",
      " 0.11769568 0.11211021 0.11529117 0.10958046 0.10434565 0.1092799\n",
      " 0.11458986 0.11559173 0.12275517 0.12062617 0.12663745 0.13134627\n",
      " 0.12771446 0.13046963 0.13377583 0.12884158 0.12726362 0.13507827\n",
      " 0.13238773 0.13359164 0.13462377 0.13552341 0.13632976 0.13707559\n",
      " 0.13778599 0.13847896 0.13916664 0.13985665 0.1405534  0.14125885\n",
      " 0.14197335 0.14269614 0.14342573 0.14416036]\n",
      "16 day output [[0.14489809]]\n",
      "17 day input [0.08598622 0.10316844 0.10386976 0.10261741 0.09966187 0.0903444\n",
      " 0.08541014 0.08969317 0.08846587 0.09430182 0.09675642 0.0910958\n",
      " 0.07428929 0.06930495 0.0639449  0.06376957 0.07165936 0.06359424\n",
      " 0.0626675  0.05808391 0.04809017 0.05703193 0.05783344 0.04566061\n",
      " 0.04889167 0.04553538 0.05705698 0.05838447 0.05983719 0.06675016\n",
      " 0.06654978 0.06993112 0.07288666 0.07105823 0.07120852 0.07772073\n",
      " 0.08583594 0.08939261 0.08771446 0.09297433 0.09790858 0.09056982\n",
      " 0.09380088 0.09665623 0.11015654 0.11937383 0.11243582 0.11974953\n",
      " 0.11291171 0.11028178 0.11063244 0.11774577 0.11611772 0.12145272\n",
      " 0.11739512 0.11448967 0.10429555 0.10537257 0.10659987 0.09986224\n",
      " 0.10289292 0.10161553 0.09635567 0.09785848 0.11068253 0.11769568\n",
      " 0.11211021 0.11529117 0.10958046 0.10434565 0.1092799  0.11458986\n",
      " 0.11559173 0.12275517 0.12062617 0.12663745 0.13134627 0.12771446\n",
      " 0.13046963 0.13377583 0.12884158 0.12726362 0.13507827 0.13238773\n",
      " 0.13359164 0.13462377 0.13552341 0.13632976 0.13707559 0.13778599\n",
      " 0.13847896 0.13916664 0.13985665 0.1405534  0.14125885 0.14197335\n",
      " 0.14269614 0.14342573 0.14416036 0.14489809]\n",
      "17 day output [[0.14563699]]\n",
      "18 day input [0.10316844 0.10386976 0.10261741 0.09966187 0.0903444  0.08541014\n",
      " 0.08969317 0.08846587 0.09430182 0.09675642 0.0910958  0.07428929\n",
      " 0.06930495 0.0639449  0.06376957 0.07165936 0.06359424 0.0626675\n",
      " 0.05808391 0.04809017 0.05703193 0.05783344 0.04566061 0.04889167\n",
      " 0.04553538 0.05705698 0.05838447 0.05983719 0.06675016 0.06654978\n",
      " 0.06993112 0.07288666 0.07105823 0.07120852 0.07772073 0.08583594\n",
      " 0.08939261 0.08771446 0.09297433 0.09790858 0.09056982 0.09380088\n",
      " 0.09665623 0.11015654 0.11937383 0.11243582 0.11974953 0.11291171\n",
      " 0.11028178 0.11063244 0.11774577 0.11611772 0.12145272 0.11739512\n",
      " 0.11448967 0.10429555 0.10537257 0.10659987 0.09986224 0.10289292\n",
      " 0.10161553 0.09635567 0.09785848 0.11068253 0.11769568 0.11211021\n",
      " 0.11529117 0.10958046 0.10434565 0.1092799  0.11458986 0.11559173\n",
      " 0.12275517 0.12062617 0.12663745 0.13134627 0.12771446 0.13046963\n",
      " 0.13377583 0.12884158 0.12726362 0.13507827 0.13238773 0.13359164\n",
      " 0.13462377 0.13552341 0.13632976 0.13707559 0.13778599 0.13847896\n",
      " 0.13916664 0.13985665 0.1405534  0.14125885 0.14197335 0.14269614\n",
      " 0.14342573 0.14416036 0.14489809 0.14563699]\n",
      "18 day output [[0.14637534]]\n",
      "19 day input [0.10386976 0.10261741 0.09966187 0.0903444  0.08541014 0.08969317\n",
      " 0.08846587 0.09430182 0.09675642 0.0910958  0.07428929 0.06930495\n",
      " 0.0639449  0.06376957 0.07165936 0.06359424 0.0626675  0.05808391\n",
      " 0.04809017 0.05703193 0.05783344 0.04566061 0.04889167 0.04553538\n",
      " 0.05705698 0.05838447 0.05983719 0.06675016 0.06654978 0.06993112\n",
      " 0.07288666 0.07105823 0.07120852 0.07772073 0.08583594 0.08939261\n",
      " 0.08771446 0.09297433 0.09790858 0.09056982 0.09380088 0.09665623\n",
      " 0.11015654 0.11937383 0.11243582 0.11974953 0.11291171 0.11028178\n",
      " 0.11063244 0.11774577 0.11611772 0.12145272 0.11739512 0.11448967\n",
      " 0.10429555 0.10537257 0.10659987 0.09986224 0.10289292 0.10161553\n",
      " 0.09635567 0.09785848 0.11068253 0.11769568 0.11211021 0.11529117\n",
      " 0.10958046 0.10434565 0.1092799  0.11458986 0.11559173 0.12275517\n",
      " 0.12062617 0.12663745 0.13134627 0.12771446 0.13046963 0.13377583\n",
      " 0.12884158 0.12726362 0.13507827 0.13238773 0.13359164 0.13462377\n",
      " 0.13552341 0.13632976 0.13707559 0.13778599 0.13847896 0.13916664\n",
      " 0.13985665 0.1405534  0.14125885 0.14197335 0.14269614 0.14342573\n",
      " 0.14416036 0.14489809 0.14563699 0.14637534]\n"
     ]
    },
    {
     "name": "stdout",
     "output_type": "stream",
     "text": [
      "19 day output [[0.14711154]]\n",
      "20 day input [0.10261741 0.09966187 0.0903444  0.08541014 0.08969317 0.08846587\n",
      " 0.09430182 0.09675642 0.0910958  0.07428929 0.06930495 0.0639449\n",
      " 0.06376957 0.07165936 0.06359424 0.0626675  0.05808391 0.04809017\n",
      " 0.05703193 0.05783344 0.04566061 0.04889167 0.04553538 0.05705698\n",
      " 0.05838447 0.05983719 0.06675016 0.06654978 0.06993112 0.07288666\n",
      " 0.07105823 0.07120852 0.07772073 0.08583594 0.08939261 0.08771446\n",
      " 0.09297433 0.09790858 0.09056982 0.09380088 0.09665623 0.11015654\n",
      " 0.11937383 0.11243582 0.11974953 0.11291171 0.11028178 0.11063244\n",
      " 0.11774577 0.11611772 0.12145272 0.11739512 0.11448967 0.10429555\n",
      " 0.10537257 0.10659987 0.09986224 0.10289292 0.10161553 0.09635567\n",
      " 0.09785848 0.11068253 0.11769568 0.11211021 0.11529117 0.10958046\n",
      " 0.10434565 0.1092799  0.11458986 0.11559173 0.12275517 0.12062617\n",
      " 0.12663745 0.13134627 0.12771446 0.13046963 0.13377583 0.12884158\n",
      " 0.12726362 0.13507827 0.13238773 0.13359164 0.13462377 0.13552341\n",
      " 0.13632976 0.13707559 0.13778599 0.13847896 0.13916664 0.13985665\n",
      " 0.1405534  0.14125885 0.14197335 0.14269614 0.14342573 0.14416036\n",
      " 0.14489809 0.14563699 0.14637534 0.14711154]\n",
      "20 day output [[0.14784448]]\n",
      "21 day input [0.09966187 0.0903444  0.08541014 0.08969317 0.08846587 0.09430182\n",
      " 0.09675642 0.0910958  0.07428929 0.06930495 0.0639449  0.06376957\n",
      " 0.07165936 0.06359424 0.0626675  0.05808391 0.04809017 0.05703193\n",
      " 0.05783344 0.04566061 0.04889167 0.04553538 0.05705698 0.05838447\n",
      " 0.05983719 0.06675016 0.06654978 0.06993112 0.07288666 0.07105823\n",
      " 0.07120852 0.07772073 0.08583594 0.08939261 0.08771446 0.09297433\n",
      " 0.09790858 0.09056982 0.09380088 0.09665623 0.11015654 0.11937383\n",
      " 0.11243582 0.11974953 0.11291171 0.11028178 0.11063244 0.11774577\n",
      " 0.11611772 0.12145272 0.11739512 0.11448967 0.10429555 0.10537257\n",
      " 0.10659987 0.09986224 0.10289292 0.10161553 0.09635567 0.09785848\n",
      " 0.11068253 0.11769568 0.11211021 0.11529117 0.10958046 0.10434565\n",
      " 0.1092799  0.11458986 0.11559173 0.12275517 0.12062617 0.12663745\n",
      " 0.13134627 0.12771446 0.13046963 0.13377583 0.12884158 0.12726362\n",
      " 0.13507827 0.13238773 0.13359164 0.13462377 0.13552341 0.13632976\n",
      " 0.13707559 0.13778599 0.13847896 0.13916664 0.13985665 0.1405534\n",
      " 0.14125885 0.14197335 0.14269614 0.14342573 0.14416036 0.14489809\n",
      " 0.14563699 0.14637534 0.14711154 0.14784448]\n",
      "21 day output [[0.1485731]]\n",
      "22 day input [0.0903444  0.08541014 0.08969317 0.08846587 0.09430182 0.09675642\n",
      " 0.0910958  0.07428929 0.06930495 0.0639449  0.06376957 0.07165936\n",
      " 0.06359424 0.0626675  0.05808391 0.04809017 0.05703193 0.05783344\n",
      " 0.04566061 0.04889167 0.04553538 0.05705698 0.05838447 0.05983719\n",
      " 0.06675016 0.06654978 0.06993112 0.07288666 0.07105823 0.07120852\n",
      " 0.07772073 0.08583594 0.08939261 0.08771446 0.09297433 0.09790858\n",
      " 0.09056982 0.09380088 0.09665623 0.11015654 0.11937383 0.11243582\n",
      " 0.11974953 0.11291171 0.11028178 0.11063244 0.11774577 0.11611772\n",
      " 0.12145272 0.11739512 0.11448967 0.10429555 0.10537257 0.10659987\n",
      " 0.09986224 0.10289292 0.10161553 0.09635567 0.09785848 0.11068253\n",
      " 0.11769568 0.11211021 0.11529117 0.10958046 0.10434565 0.1092799\n",
      " 0.11458986 0.11559173 0.12275517 0.12062617 0.12663745 0.13134627\n",
      " 0.12771446 0.13046963 0.13377583 0.12884158 0.12726362 0.13507827\n",
      " 0.13238773 0.13359164 0.13462377 0.13552341 0.13632976 0.13707559\n",
      " 0.13778599 0.13847896 0.13916664 0.13985665 0.1405534  0.14125885\n",
      " 0.14197335 0.14269614 0.14342573 0.14416036 0.14489809 0.14563699\n",
      " 0.14637534 0.14711154 0.14784448 0.1485731 ]\n",
      "22 day output [[0.1492968]]\n",
      "23 day input [0.08541014 0.08969317 0.08846587 0.09430182 0.09675642 0.0910958\n",
      " 0.07428929 0.06930495 0.0639449  0.06376957 0.07165936 0.06359424\n",
      " 0.0626675  0.05808391 0.04809017 0.05703193 0.05783344 0.04566061\n",
      " 0.04889167 0.04553538 0.05705698 0.05838447 0.05983719 0.06675016\n",
      " 0.06654978 0.06993112 0.07288666 0.07105823 0.07120852 0.07772073\n",
      " 0.08583594 0.08939261 0.08771446 0.09297433 0.09790858 0.09056982\n",
      " 0.09380088 0.09665623 0.11015654 0.11937383 0.11243582 0.11974953\n",
      " 0.11291171 0.11028178 0.11063244 0.11774577 0.11611772 0.12145272\n",
      " 0.11739512 0.11448967 0.10429555 0.10537257 0.10659987 0.09986224\n",
      " 0.10289292 0.10161553 0.09635567 0.09785848 0.11068253 0.11769568\n",
      " 0.11211021 0.11529117 0.10958046 0.10434565 0.1092799  0.11458986\n",
      " 0.11559173 0.12275517 0.12062617 0.12663745 0.13134627 0.12771446\n",
      " 0.13046963 0.13377583 0.12884158 0.12726362 0.13507827 0.13238773\n",
      " 0.13359164 0.13462377 0.13552341 0.13632976 0.13707559 0.13778599\n",
      " 0.13847896 0.13916664 0.13985665 0.1405534  0.14125885 0.14197335\n",
      " 0.14269614 0.14342573 0.14416036 0.14489809 0.14563699 0.14637534\n",
      " 0.14711154 0.14784448 0.1485731  0.14929681]\n",
      "23 day output [[0.1500152]]\n",
      "24 day input [0.08969317 0.08846587 0.09430182 0.09675642 0.0910958  0.07428929\n",
      " 0.06930495 0.0639449  0.06376957 0.07165936 0.06359424 0.0626675\n",
      " 0.05808391 0.04809017 0.05703193 0.05783344 0.04566061 0.04889167\n",
      " 0.04553538 0.05705698 0.05838447 0.05983719 0.06675016 0.06654978\n",
      " 0.06993112 0.07288666 0.07105823 0.07120852 0.07772073 0.08583594\n",
      " 0.08939261 0.08771446 0.09297433 0.09790858 0.09056982 0.09380088\n",
      " 0.09665623 0.11015654 0.11937383 0.11243582 0.11974953 0.11291171\n",
      " 0.11028178 0.11063244 0.11774577 0.11611772 0.12145272 0.11739512\n",
      " 0.11448967 0.10429555 0.10537257 0.10659987 0.09986224 0.10289292\n",
      " 0.10161553 0.09635567 0.09785848 0.11068253 0.11769568 0.11211021\n",
      " 0.11529117 0.10958046 0.10434565 0.1092799  0.11458986 0.11559173\n",
      " 0.12275517 0.12062617 0.12663745 0.13134627 0.12771446 0.13046963\n",
      " 0.13377583 0.12884158 0.12726362 0.13507827 0.13238773 0.13359164\n",
      " 0.13462377 0.13552341 0.13632976 0.13707559 0.13778599 0.13847896\n",
      " 0.13916664 0.13985665 0.1405534  0.14125885 0.14197335 0.14269614\n",
      " 0.14342573 0.14416036 0.14489809 0.14563699 0.14637534 0.14711154\n",
      " 0.14784448 0.1485731  0.14929681 0.15001521]\n",
      "24 day output [[0.15072814]]\n",
      "25 day input [0.08846587 0.09430182 0.09675642 0.0910958  0.07428929 0.06930495\n",
      " 0.0639449  0.06376957 0.07165936 0.06359424 0.0626675  0.05808391\n",
      " 0.04809017 0.05703193 0.05783344 0.04566061 0.04889167 0.04553538\n",
      " 0.05705698 0.05838447 0.05983719 0.06675016 0.06654978 0.06993112\n",
      " 0.07288666 0.07105823 0.07120852 0.07772073 0.08583594 0.08939261\n",
      " 0.08771446 0.09297433 0.09790858 0.09056982 0.09380088 0.09665623\n",
      " 0.11015654 0.11937383 0.11243582 0.11974953 0.11291171 0.11028178\n",
      " 0.11063244 0.11774577 0.11611772 0.12145272 0.11739512 0.11448967\n",
      " 0.10429555 0.10537257 0.10659987 0.09986224 0.10289292 0.10161553\n",
      " 0.09635567 0.09785848 0.11068253 0.11769568 0.11211021 0.11529117\n",
      " 0.10958046 0.10434565 0.1092799  0.11458986 0.11559173 0.12275517\n",
      " 0.12062617 0.12663745 0.13134627 0.12771446 0.13046963 0.13377583\n",
      " 0.12884158 0.12726362 0.13507827 0.13238773 0.13359164 0.13462377\n",
      " 0.13552341 0.13632976 0.13707559 0.13778599 0.13847896 0.13916664\n",
      " 0.13985665 0.1405534  0.14125885 0.14197335 0.14269614 0.14342573\n",
      " 0.14416036 0.14489809 0.14563699 0.14637534 0.14711154 0.14784448\n",
      " 0.1485731  0.14929681 0.15001521 0.15072814]\n",
      "25 day output [[0.15143551]]\n",
      "26 day input [0.09430182 0.09675642 0.0910958  0.07428929 0.06930495 0.0639449\n",
      " 0.06376957 0.07165936 0.06359424 0.0626675  0.05808391 0.04809017\n",
      " 0.05703193 0.05783344 0.04566061 0.04889167 0.04553538 0.05705698\n",
      " 0.05838447 0.05983719 0.06675016 0.06654978 0.06993112 0.07288666\n",
      " 0.07105823 0.07120852 0.07772073 0.08583594 0.08939261 0.08771446\n",
      " 0.09297433 0.09790858 0.09056982 0.09380088 0.09665623 0.11015654\n",
      " 0.11937383 0.11243582 0.11974953 0.11291171 0.11028178 0.11063244\n",
      " 0.11774577 0.11611772 0.12145272 0.11739512 0.11448967 0.10429555\n",
      " 0.10537257 0.10659987 0.09986224 0.10289292 0.10161553 0.09635567\n",
      " 0.09785848 0.11068253 0.11769568 0.11211021 0.11529117 0.10958046\n",
      " 0.10434565 0.1092799  0.11458986 0.11559173 0.12275517 0.12062617\n",
      " 0.12663745 0.13134627 0.12771446 0.13046963 0.13377583 0.12884158\n",
      " 0.12726362 0.13507827 0.13238773 0.13359164 0.13462377 0.13552341\n",
      " 0.13632976 0.13707559 0.13778599 0.13847896 0.13916664 0.13985665\n",
      " 0.1405534  0.14125885 0.14197335 0.14269614 0.14342573 0.14416036\n",
      " 0.14489809 0.14563699 0.14637534 0.14711154 0.14784448 0.1485731\n",
      " 0.14929681 0.15001521 0.15072814 0.15143551]\n",
      "26 day output [[0.15213758]]\n",
      "27 day input [0.09675642 0.0910958  0.07428929 0.06930495 0.0639449  0.06376957\n",
      " 0.07165936 0.06359424 0.0626675  0.05808391 0.04809017 0.05703193\n",
      " 0.05783344 0.04566061 0.04889167 0.04553538 0.05705698 0.05838447\n",
      " 0.05983719 0.06675016 0.06654978 0.06993112 0.07288666 0.07105823\n",
      " 0.07120852 0.07772073 0.08583594 0.08939261 0.08771446 0.09297433\n",
      " 0.09790858 0.09056982 0.09380088 0.09665623 0.11015654 0.11937383\n",
      " 0.11243582 0.11974953 0.11291171 0.11028178 0.11063244 0.11774577\n",
      " 0.11611772 0.12145272 0.11739512 0.11448967 0.10429555 0.10537257\n",
      " 0.10659987 0.09986224 0.10289292 0.10161553 0.09635567 0.09785848\n",
      " 0.11068253 0.11769568 0.11211021 0.11529117 0.10958046 0.10434565\n",
      " 0.1092799  0.11458986 0.11559173 0.12275517 0.12062617 0.12663745\n",
      " 0.13134627 0.12771446 0.13046963 0.13377583 0.12884158 0.12726362\n",
      " 0.13507827 0.13238773 0.13359164 0.13462377 0.13552341 0.13632976\n",
      " 0.13707559 0.13778599 0.13847896 0.13916664 0.13985665 0.1405534\n",
      " 0.14125885 0.14197335 0.14269614 0.14342573 0.14416036 0.14489809\n",
      " 0.14563699 0.14637534 0.14711154 0.14784448 0.1485731  0.14929681\n",
      " 0.15001521 0.15072814 0.15143551 0.15213758]\n",
      "27 day output [[0.15283458]]\n",
      "28 day input [0.0910958  0.07428929 0.06930495 0.0639449  0.06376957 0.07165936\n",
      " 0.06359424 0.0626675  0.05808391 0.04809017 0.05703193 0.05783344\n",
      " 0.04566061 0.04889167 0.04553538 0.05705698 0.05838447 0.05983719\n",
      " 0.06675016 0.06654978 0.06993112 0.07288666 0.07105823 0.07120852\n",
      " 0.07772073 0.08583594 0.08939261 0.08771446 0.09297433 0.09790858\n",
      " 0.09056982 0.09380088 0.09665623 0.11015654 0.11937383 0.11243582\n",
      " 0.11974953 0.11291171 0.11028178 0.11063244 0.11774577 0.11611772\n",
      " 0.12145272 0.11739512 0.11448967 0.10429555 0.10537257 0.10659987\n",
      " 0.09986224 0.10289292 0.10161553 0.09635567 0.09785848 0.11068253\n",
      " 0.11769568 0.11211021 0.11529117 0.10958046 0.10434565 0.1092799\n",
      " 0.11458986 0.11559173 0.12275517 0.12062617 0.12663745 0.13134627\n",
      " 0.12771446 0.13046963 0.13377583 0.12884158 0.12726362 0.13507827\n",
      " 0.13238773 0.13359164 0.13462377 0.13552341 0.13632976 0.13707559\n",
      " 0.13778599 0.13847896 0.13916664 0.13985665 0.1405534  0.14125885\n",
      " 0.14197335 0.14269614 0.14342573 0.14416036 0.14489809 0.14563699\n",
      " 0.14637534 0.14711154 0.14784448 0.1485731  0.14929681 0.15001521\n",
      " 0.15072814 0.15143551 0.15213758 0.15283458]\n",
      "28 day output [[0.15352689]]\n",
      "29 day input [0.07428929 0.06930495 0.0639449  0.06376957 0.07165936 0.06359424\n",
      " 0.0626675  0.05808391 0.04809017 0.05703193 0.05783344 0.04566061\n",
      " 0.04889167 0.04553538 0.05705698 0.05838447 0.05983719 0.06675016\n",
      " 0.06654978 0.06993112 0.07288666 0.07105823 0.07120852 0.07772073\n",
      " 0.08583594 0.08939261 0.08771446 0.09297433 0.09790858 0.09056982\n",
      " 0.09380088 0.09665623 0.11015654 0.11937383 0.11243582 0.11974953\n",
      " 0.11291171 0.11028178 0.11063244 0.11774577 0.11611772 0.12145272\n",
      " 0.11739512 0.11448967 0.10429555 0.10537257 0.10659987 0.09986224\n",
      " 0.10289292 0.10161553 0.09635567 0.09785848 0.11068253 0.11769568\n",
      " 0.11211021 0.11529117 0.10958046 0.10434565 0.1092799  0.11458986\n",
      " 0.11559173 0.12275517 0.12062617 0.12663745 0.13134627 0.12771446\n",
      " 0.13046963 0.13377583 0.12884158 0.12726362 0.13507827 0.13238773\n",
      " 0.13359164 0.13462377 0.13552341 0.13632976 0.13707559 0.13778599\n",
      " 0.13847896 0.13916664 0.13985665 0.1405534  0.14125885 0.14197335\n",
      " 0.14269614 0.14342573 0.14416036 0.14489809 0.14563699 0.14637534\n",
      " 0.14711154 0.14784448 0.1485731  0.14929681 0.15001521 0.15072814\n",
      " 0.15143551 0.15213758 0.15283458 0.15352689]\n"
     ]
    },
    {
     "name": "stdout",
     "output_type": "stream",
     "text": [
      "29 day output [[0.15421483]]\n",
      "[[0.13238772749900818], [0.1335916370153427], [0.13462376594543457], [0.13552340865135193], [0.1363297551870346], [0.13707558810710907], [0.13778598606586456], [0.13847896456718445], [0.13916663825511932], [0.13985665142536163], [0.14055339992046356], [0.1412588506937027], [0.1419733464717865], [0.14269614219665527], [0.14342573285102844], [0.14416036009788513], [0.14489808678627014], [0.14563699066638947], [0.14637534320354462], [0.14711153507232666], [0.14784447848796844], [0.148573100566864], [0.1492968052625656], [0.1500152051448822], [0.15072813630104065], [0.1514355093240738], [0.15213757753372192], [0.15283457934856415], [0.1535268872976303], [0.15421482920646667]]\n"
     ]
    }
   ],
   "source": [
    "from numpy import array\n",
    "\n",
    "lst_output=[]\n",
    "n_steps=100\n",
    "i=0\n",
    "while(i<30):\n",
    "    \n",
    "    if(len(temp_input)>100):\n",
    "        #print(temp_input)\n",
    "        x_input=np.array(temp_input[1:])\n",
    "        print(\"{} day input {}\".format(i,x_input))\n",
    "        x_input=x_input.reshape(1,-1)\n",
    "        x_input = x_input.reshape((1, n_steps, 1))\n",
    "        #print(x_input)\n",
    "        yhat = model.predict(x_input, verbose=0)\n",
    "        print(\"{} day output {}\".format(i,yhat))\n",
    "        temp_input.extend(yhat[0].tolist())\n",
    "        temp_input=temp_input[1:]\n",
    "        #print(temp_input)\n",
    "        lst_output.extend(yhat.tolist())\n",
    "        i=i+1\n",
    "    else:\n",
    "        x_input = x_input.reshape((1, n_steps,1))\n",
    "        yhat = model.predict(x_input, verbose=0)\n",
    "        print(yhat[0])\n",
    "        temp_input.extend(yhat[0].tolist())\n",
    "        print(len(temp_input))\n",
    "        lst_output.extend(yhat.tolist())\n",
    "        i=i+1\n",
    "    \n",
    "\n",
    "print(lst_output)"
   ]
  },
  {
   "cell_type": "code",
   "execution_count": 52,
   "id": "254d6666",
   "metadata": {},
   "outputs": [],
   "source": [
    "day_new=np.arange(1,101)\n",
    "day_pred=np.arange(101,131)"
   ]
  },
  {
   "cell_type": "code",
   "execution_count": 53,
   "id": "52e7b13c",
   "metadata": {},
   "outputs": [
    {
     "data": {
      "text/plain": [
       "[<matplotlib.lines.Line2D at 0x244a07185b0>]"
      ]
     },
     "execution_count": 53,
     "metadata": {},
     "output_type": "execute_result"
    },
    {
     "data": {
      "image/png": "[encoded data removed]",
      "text/plain": [
       "<Figure size 640x480 with 1 Axes>"
      ]
     },
     "metadata": {},
     "output_type": "display_data"
    }
   ],
   "source": [
    "plt.plot(day_new,scaler.inverse_transform(df1[1158:]))\n",
    "plt.plot(day_pred,scaler.inverse_transform(lst_output))"
   ]
  },
  {
   "cell_type": "code",
   "execution_count": 59,
   "id": "e032ac7b",
   "metadata": {},
   "outputs": [
    {
     "data": {
      "text/plain": [
       "[<matplotlib.lines.Line2D at 0x244a07326b0>]"
      ]
     },
     "execution_count": 59,
     "metadata": {},
     "output_type": "execute_result"
    },
    {
     "data": {
      "image/png": "[encoded data removed]",
      "text/plain": [
       "<Figure size 640x480 with 1 Axes>"
      ]
     },
     "metadata": {},
     "output_type": "display_data"
    }
   ],
   "source": [
    "df3=df1.tolist()\n",
    "df3.extend(lst_output)\n",
    "plt.plot(df3[1200:])"
   ]
  },
  {
   "cell_type": "code",
   "execution_count": 60,
   "id": "0d088cd7",
   "metadata": {},
   "outputs": [
    {
     "data": {
      "text/plain": [
       "[<matplotlib.lines.Line2D at 0x244a0714760>]"
      ]
     },
     "execution_count": 60,
     "metadata": {},
     "output_type": "execute_result"
    },
    {
     "data": {
      "image/png": "[encoded data removed]",
      "text/plain": [
       "<Figure size 640x480 with 1 Axes>"
      ]
     },
     "metadata": {},
     "output_type": "display_data"
    }
   ],
   "source": [
    "df3=scaler.inverse_transform(df3).tolist()\n",
    "plt.plot(df3)"
   ]
  },
  {
   "cell_type": "code",
   "execution_count": null,
   "id": "75930c7c",
   "metadata": {},
   "outputs": [],
   "source": []
  }
 ],
 "metadata": {
  "kernelspec": {
   "display_name": "Python 3 (ipykernel)",
   "language": "python",
   "name": "python3"
  },
  "language_info": {
   "codemirror_mode": {
    "name": "ipython",
    "version": 3
   },
   "file_extension": ".py",
   "mimetype": "text/x-python",
   "name": "python",
   "nbconvert_exporter": "python",
   "pygments_lexer": "ipython3",
   "version": "3.10.9"
  }
 },
 "nbformat": 4,
 "nbformat_minor": 5
}
